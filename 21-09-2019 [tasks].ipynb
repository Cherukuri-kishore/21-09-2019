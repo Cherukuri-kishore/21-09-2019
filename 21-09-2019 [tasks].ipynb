{
 "cells": [
  {
   "cell_type": "code",
   "execution_count": 2,
   "metadata": {},
   "outputs": [],
   "source": [
    "import re"
   ]
  },
  {
   "cell_type": "markdown",
   "metadata": {},
   "source": [
    "# task 1\n",
    "## Write a function to validate a phone number in python"
   ]
  },
  {
   "cell_type": "code",
   "execution_count": 3,
   "metadata": {},
   "outputs": [],
   "source": [
    "import re"
   ]
  },
  {
   "cell_type": "code",
   "execution_count": 26,
   "metadata": {},
   "outputs": [
    {
     "name": "stdout",
     "output_type": "stream",
     "text": [
      "+919876543210\n",
      "valid\n"
     ]
    }
   ],
   "source": [
    "def valid(n):\n",
    "    if re.match('^[+][9][1][6-9][0-9]{9}$|^[0][6-9][0-9]{09}$|^[6-9][0-9]{09}$',n):\n",
    "        return True\n",
    "    else:\n",
    "        return False\n",
    "num=input()\n",
    "p=valid(num)\n",
    "if p==True:\n",
    "    print(\"valid\")\n",
    "else:\n",
    "    print(\"not valid\")"
   ]
  },
  {
   "cell_type": "markdown",
   "metadata": {},
   "source": [
    "# Task 2\n",
    "## Write a function to validate a email id in python"
   ]
  },
  {
   "cell_type": "code",
   "execution_count": 31,
   "metadata": {},
   "outputs": [
    {
     "name": "stdout",
     "output_type": "stream",
     "text": [
      "kishoressc1999@gmail.com\n",
      "kishoressc1999@gmail.com   is valid\n"
     ]
    }
   ],
   "source": [
    "def mailvalid(m):\n",
    "    if re.match('^[0-9a-zA-z][0-9a-zA-Z-._]{6,25}[@][a-zA-z]{2,8}[.][a-zA-z]{2,5}$',m):\n",
    "        return True\n",
    "    else:\n",
    "        return False\n",
    "mail=input()\n",
    "k=mailvalid(mail)\n",
    "if k==True:\n",
    "    print (mail,'  is valid')\n",
    "else:\n",
    "    print (mail,'  in not valid')"
   ]
  },
  {
   "cell_type": "markdown",
   "metadata": {},
   "source": [
    "# Task 3\n",
    "- Write a function to add contacts if phone number and email id are both valid.\n",
    "-             Input: key : name , value :[phonenumber, email id]\n",
    "-             Output : name : [phonenumber, email id]"
   ]
  },
  {
   "cell_type": "code",
   "execution_count": 2,
   "metadata": {},
   "outputs": [],
   "source": [
    "import re"
   ]
  },
  {
   "cell_type": "code",
   "execution_count": 7,
   "metadata": {},
   "outputs": [
    {
     "name": "stdout",
     "output_type": "stream",
     "text": [
      "number of contacts   2\n",
      " enter name   ddcssd\n",
      "enter mail   buigiyv@vsib.bdi\n",
      "enter phone number   8907709876\n",
      " enter name   gugyuvug\n",
      "enter mail   buyghvuyfj@ghkil.hjk\n",
      "enter phone number   9807652341\n",
      "{'ddcssd': ['buigiyv@vsib.bdi', '8907709876'], 'gugyuvug': ['buyghvuyfj@ghkil.hjk', '9807652341']}\n"
     ]
    }
   ],
   "source": [
    "def isvalid():\n",
    "    a=input( ' enter name   ')\n",
    "    b=input('enter mail   ')\n",
    "    c=input('enter phone number   ')\n",
    "    e=[b,c]\n",
    "    if ( re.match('^[0-9a-zA-z][0-9a-zA-Z-._]{6,25}[@][a-zA-z]{2,8}[.][a-zA-z]{2,5}$',b) and re.match('^[+][9][1][6-9][0-9]{9}$|^[0][6-9][0-9]{09}$|^[6-9][0-9]{09}$',c)):\n",
    "        f.update({a:e})\n",
    "             \n",
    "f={}\n",
    "n=int(input('number of contacts   '))\n",
    "for i in range(n):\n",
    "    isvalid()\n",
    "print(f)"
   ]
  },
  {
   "cell_type": "markdown",
   "metadata": {},
   "source": [
    "# TASK 4\n",
    "## Write a function to search for a contact"
   ]
  },
  {
   "cell_type": "code",
   "execution_count": 19,
   "metadata": {},
   "outputs": [
    {
     "name": "stdout",
     "output_type": "stream",
     "text": [
      "chaitanya\n",
      "['chaitanyakishore@gmail.com', '90876543321']\n"
     ]
    }
   ],
   "source": [
    "f={'chaitanya':['chaitanyakishore@gmail.com','90876543321'],'srinivas':['srinivas9@gmail.com','9807654321'],'bhanu':['bhanunelli@gmail.com','9870654321']}\n",
    "    \n",
    "name=input()\n",
    "i=name\n",
    "if i in f:\n",
    "    print(f[name])"
   ]
  },
  {
   "cell_type": "markdown",
   "metadata": {},
   "source": [
    "# task 5\n",
    " ## "
   ]
  }
 ],
 "metadata": {
  "kernelspec": {
   "display_name": "Python 3",
   "language": "python",
   "name": "python3"
  },
  "language_info": {
   "codemirror_mode": {
    "name": "ipython",
    "version": 3
   },
   "file_extension": ".py",
   "mimetype": "text/x-python",
   "name": "python",
   "nbconvert_exporter": "python",
   "pygments_lexer": "ipython3",
   "version": "3.7.3"
  }
 },
 "nbformat": 4,
 "nbformat_minor": 2
}
